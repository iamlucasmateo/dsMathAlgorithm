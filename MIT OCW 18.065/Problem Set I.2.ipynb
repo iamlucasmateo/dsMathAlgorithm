{
 "cells": [
  {
   "cell_type": "markdown",
   "metadata": {},
   "source": [
    "# Matrix Methods in Data Analysis, Signal Processing, and Machine Learning"
   ]
  },
  {
   "cell_type": "markdown",
   "metadata": {},
   "source": [
    "## MIT Open Course Ware 18.065"
   ]
  },
  {
   "cell_type": "markdown",
   "metadata": {},
   "source": [
    "### Problem Set I.2 - Solutions using Python, numpy and Latex"
   ]
  },
  {
   "cell_type": "markdown",
   "metadata": {},
   "source": [
    "#### 2) Suppose $a$ and $b$ are column vectors with components $a_1$, . . . , $a_m$ and $b_1$, . . . , $b_p$. Can you multiply $a$ times $b^T$ (yes or no) ? What is the shape of the answer $ab^T$ ? What number is in row $i$, column $j$ of $ab^T$ ? What can you say about $aa^T$ ?"
   ]
  },
  {
   "cell_type": "markdown",
   "metadata": {},
   "source": [
    "As a column vector, $a$ is a $m x 1$ matrix, $b$ is a $p x 1$ matrix; hence $b^T$ is a $1 x p$ matrix, so $ab^T$ is possible. The result (let's call it $W$) is a $m x p$ matrix. Its components are $W_(ij)$ = $a_i * b_j$. Therefore, the $ij$ component of $aa^T$ is $a_i^2$"
   ]
  },
  {
   "cell_type": "markdown",
   "metadata": {},
   "source": [
    "#### 6) If A has columns $a_1$, $a_2$, $a_3$ and $B$ = $I$ is the identity matrix, what are the rank one matrices $a_1$$b_1^*$ and $a_2$$b_2^*$ and $a_3$$b_3^*$ ? They should add to $AI = A$. "
   ]
  },
  {
   "cell_type": "markdown",
   "metadata": {},
   "source": [
    "For i in {1,2,3}, the matrix $a_i$$b_i^*$ (outer product of two vectors) has $a_i$ as its columnn number $i$, and the rest of its entries are zero. Adding up the three matrices gives us $A$."
   ]
  }
 ],
 "metadata": {
  "kernelspec": {
   "display_name": "Python 3",
   "language": "python",
   "name": "python3"
  },
  "language_info": {
   "codemirror_mode": {
    "name": "ipython",
    "version": 3
   },
   "file_extension": ".py",
   "mimetype": "text/x-python",
   "name": "python",
   "nbconvert_exporter": "python",
   "pygments_lexer": "ipython3",
   "version": "3.7.4"
  }
 },
 "nbformat": 4,
 "nbformat_minor": 2
}
